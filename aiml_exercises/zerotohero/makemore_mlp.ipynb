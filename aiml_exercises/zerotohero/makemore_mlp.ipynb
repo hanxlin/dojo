{
 "cells": [
  {
   "cell_type": "code",
   "execution_count": 44,
   "metadata": {},
   "outputs": [],
   "source": [
    "import torch\n",
    "import torch.nn.functional as F\n",
    "import matplotlib.pyplot as plt\n",
    "%matplotlib inline"
   ]
  },
  {
   "cell_type": "code",
   "execution_count": 45,
   "metadata": {},
   "outputs": [
    {
     "data": {
      "text/plain": [
       "['emma', 'olivia', 'ava', 'isabella', 'sophia', 'charlotte', 'mia', 'amelia']"
      ]
     },
     "execution_count": 45,
     "metadata": {},
     "output_type": "execute_result"
    }
   ],
   "source": [
    "# read data\n",
    "words = open('names.txt', 'r').read().splitlines()\n",
    "words[:8]"
   ]
  },
  {
   "cell_type": "code",
   "execution_count": 46,
   "metadata": {},
   "outputs": [
    {
     "data": {
      "text/plain": [
       "32033"
      ]
     },
     "execution_count": 46,
     "metadata": {},
     "output_type": "execute_result"
    }
   ],
   "source": [
    "len(words)"
   ]
  },
  {
   "cell_type": "code",
   "execution_count": 47,
   "metadata": {},
   "outputs": [],
   "source": [
    "# build vocab and mapping to/from integers\n",
    "chars = sorted(list(set(''.join(words))))\n",
    "stoi = {s:i+1 for i,s in enumerate(chars)}\n",
    "stoi['.'] = 0\n",
    "itos = {i:s for s,i in stoi.items()}"
   ]
  },
  {
   "cell_type": "code",
   "execution_count": 48,
   "metadata": {},
   "outputs": [
    {
     "data": {
      "text/plain": [
       "['emma', 'olivia', 'ava', 'isabella', 'sophia', 'charlotte', 'mia', 'amelia']"
      ]
     },
     "execution_count": 48,
     "metadata": {},
     "output_type": "execute_result"
    }
   ],
   "source": [
    "torch."
   ]
  },
  {
   "cell_type": "code",
   "execution_count": 245,
   "metadata": {},
   "outputs": [
    {
     "name": "stdout",
     "output_type": "stream",
     "text": [
      "Prepare dataset...\n",
      "182573 22790 22783\n",
      "tensor([[ 0,  0,  0],\n",
      "        [ 0,  0,  4],\n",
      "        [ 0,  4,  1],\n",
      "        [ 4,  1,  9],\n",
      "        [ 1,  9, 10]]) tensor([ 4,  1,  9, 10, 15])\n",
      "====================\n",
      "Init NN...\n",
      "C torch.Size([27, 10])\n",
      "W1 torch.Size([30, 300])\n",
      "W2 torch.Size([300, 27])\n",
      "Trainning loop started...\n",
      "final loss 2.0737812519073486\n",
      "camerestanly.\n",
      "helmi.\n",
      "boscan.\n",
      "yydan.\n",
      "yaetramya.\n",
      "dhalomeer.\n",
      "jewmourreoi.\n",
      "taviannyssiliee.\n",
      "dya.\n",
      "rayyee.\n",
      "finan.\n",
      "zyne.\n",
      "caraitra.\n",
      "keella.\n",
      "iar.\n",
      "mekwun.\n",
      "uzzarin.\n",
      "dey.\n",
      "ammanah.\n",
      "fine.\n"
     ]
    },
    {
     "data": {
      "image/png": "[encoded data removed]",
      "text/plain": [
       "<Figure size 640x480 with 1 Axes>"
      ]
     },
     "metadata": {},
     "output_type": "display_data"
    }
   ],
   "source": [
    "# exercise:\n",
    "#\n",
    "# 1. build the trainning dataset\n",
    "# 2. create the NN\n",
    "# 3. write the tranning loop\n",
    "\n",
    "BLOCK_SIZE = 3\n",
    "EMBD_SIZE = 10\n",
    "TRAINING_ITERATIONS = 50000\n",
    "LR_DECAY_THRESHOLDS = (30000, 40000)\n",
    "HIDDEN_SIZE = 300\n",
    "\n",
    "# Prepare dataset\n",
    "# ----------------------------\n",
    "print('Prepare dataset...')\n",
    "def build_dataset(words):\n",
    "    X, Y = [], []\n",
    "    for w in words:\n",
    "        context = [0] * BLOCK_SIZE\n",
    "        w = w + '.'\n",
    "        # print(context)\n",
    "        for c in w:\n",
    "            ix = stoi[c]\n",
    "            X.append(context)\n",
    "            Y.append(ix)\n",
    "            context = context[1:] + [ix]\n",
    "\n",
    "        # [print(x, '->', y) for x, y in zip(X, Y)]\n",
    "    X = torch.tensor(X)\n",
    "    Y = torch.tensor(Y)\n",
    "    return X, Y\n",
    "\n",
    "# build_dataset(words[:5])\n",
    "\n",
    "import random\n",
    "random.seed(42)\n",
    "random.shuffle(words)\n",
    "n1 = int(0.8*len(words))\n",
    "n2 = int(0.9*len(words))\n",
    "\n",
    "Xtr, Ytr = build_dataset(words[:n1])\n",
    "Xdev, Ydev = build_dataset(words[n1:n2])\n",
    "Xtest, Ytest = build_dataset(words[n2:])\n",
    "\n",
    "print(len(Xtr), len(Xdev), len(Xtest))\n",
    "print(Xtr[:5], Ytr[:5])\n",
    "print('====================')\n",
    "# ----------------------------\n",
    "\n",
    "# Init NN\n",
    "# ----------------------------\n",
    "g = torch.Generator().manual_seed(2147483647)\n",
    "C = torch.randn((27,EMBD_SIZE), generator=g)\n",
    "W1 = torch.randn((BLOCK_SIZE*EMBD_SIZE, HIDDEN_SIZE), generator=g)\n",
    "b1 = torch.randn(HIDDEN_SIZE, generator=g)\n",
    "W2 = torch.randn((HIDDEN_SIZE, 27), generator=g)\n",
    "b2 = torch.randn(27, generator=g)\n",
    "params = [C, W1, b1, W2, b2]\n",
    "for p in params:\n",
    "    p.requires_grad = True\n",
    "\n",
    "print(\"Init NN...\")\n",
    "print('C', C.shape)\n",
    "print('W1', W1.shape)\n",
    "print('W2', W2.shape)\n",
    "# ----------------------------\n",
    "\n",
    "# trainning loop\n",
    "# ----------------------------\n",
    "print('Trainning loop started...')\n",
    "\n",
    "# use an exponentially spaced learning rate to search for the best one\n",
    "# NOTE the exponents is linearly spaced, the learning rates are exponentially spaced\n",
    "lre = torch.linspace(-3, 0, TRAINING_ITERATIONS)\n",
    "lrs = 10**lre\n",
    "lri = []\n",
    "\n",
    "steps = []\n",
    "losses = []\n",
    "for i in range(TRAINING_ITERATIONS):\n",
    "\n",
    "    # impl mini batch of 32\n",
    "    batch_i = torch.randint(0, Xtr.shape[0], (32,))\n",
    "    \n",
    "    # forward\n",
    "    embd = C[Xtr[batch_i]].view(-1, BLOCK_SIZE*EMBD_SIZE)\n",
    "    h1 = torch.tanh(embd @ W1 + b1)\n",
    "    logits = h1 @ W2 + b2\n",
    "    loss = F.cross_entropy(logits, Ytr[batch_i])\n",
    "    # print('loss', loss.item())\n",
    "    steps.append(i)\n",
    "    losses.append(loss.log10().item())\n",
    "\n",
    "    # backward\n",
    "    for p in params:\n",
    "        p.grad = None\n",
    "    loss.backward()\n",
    "\n",
    "    # update\n",
    "    lr = 0.1\n",
    "    if i > LR_DECAY_THRESHOLDS[0]:\n",
    "        lr = 0.05\n",
    "    if i > LR_DECAY_THRESHOLDS[1]:\n",
    "        lr = 0.01\n",
    "    for p in params:\n",
    "        p.data += -lr * p.grad\n",
    "\n",
    "    # log the exp of learning rate\n",
    "    lri.append(lre[i])\n",
    "    \n",
    "print('final loss', loss.item())\n",
    "plt.plot(losses)\n",
    "# ----------------------------\n",
    "\n",
    "# generate some names\n",
    "# ----------------------------\n",
    "for i in range(20):\n",
    "    context = [0] * BLOCK_SIZE\n",
    "    out = []\n",
    "    while True:\n",
    "        h = torch.tanh(C[context].view(-1, BLOCK_SIZE*EMBD_SIZE) @ W1 + b1)\n",
    "        logits = h @ W2 + b2\n",
    "        # # the follow lines are called the \"softmax\"\n",
    "        # counts = logits.exp()\n",
    "        # probs = counts / counts.sum()\n",
    "        # ----------------------------\n",
    "        probs = F.softmax(logits, dim=1)\n",
    "        out_i = torch.multinomial(probs, 1, replacement=True).item()\n",
    "        out_char = itos[out_i]\n",
    "        out.append(out_char)\n",
    "        if out_char == '.':\n",
    "            break\n",
    "        context = context[1:] + [out_i]\n",
    "\n",
    "    print(''.join(out))\n"
   ]
  },
  {
   "cell_type": "code",
   "execution_count": 233,
   "metadata": {},
   "outputs": [
    {
     "data": {
      "text/plain": [
       "[<matplotlib.lines.Line2D at 0xffff5ec1b850>]"
      ]
     },
     "execution_count": 233,
     "metadata": {},
     "output_type": "execute_result"
    },
    {
     "data": {
      "image/png": "[encoded data removed]",
      "text/plain": [
       "<Figure size 640x480 with 1 Axes>"
      ]
     },
     "metadata": {},
     "output_type": "display_data"
    }
   ],
   "source": [
    "plt.plot(lri, losses)\n",
    "\n",
    "# the plot shows that 0.1 a fairly good learning rate! :)"
   ]
  },
  {
   "cell_type": "code",
   "execution_count": 246,
   "metadata": {},
   "outputs": [
    {
     "data": {
      "image/png": "[encoded data removed]",
      "text/plain": [
       "<Figure size 800x800 with 1 Axes>"
      ]
     },
     "metadata": {},
     "output_type": "display_data"
    }
   ],
   "source": [
    "# only works for 2 dimensional embeddings\n",
    "\n",
    "lt.figure(figsize=(8,8))\n",
    "plt.scatter(C[:,0].data, C[:,1].data, s=200)\n",
    "for i in range(C.shape[0]):\n",
    "    plt.text(C[i,0].item(), C[i,1].item(), itos[i], ha=\"center\", va=\"center\", color=\"white\")\n",
    "plt.grid(\"minor\")"
   ]
  },
  {
   "cell_type": "code",
   "execution_count": 8,
   "metadata": {},
   "outputs": [
    {
     "name": "stdout",
     "output_type": "stream",
     "text": [
      "torch.Size([182625, 3]) torch.Size([182625])\n",
      "torch.Size([22655, 3]) torch.Size([22655])\n",
      "torch.Size([22866, 3]) torch.Size([22866])\n"
     ]
    }
   ],
   "source": [
    "# build training set\n",
    "def build_dataset(words):\n",
    "    block_size = 3 # num of characters to support prediction\n",
    "\n",
    "    X, Y = [], []\n",
    "\n",
    "    for w in words:\n",
    "        context = [0] * block_size\n",
    "        for c in w + '.':\n",
    "            ix = stoi[c]\n",
    "            X.append(context)\n",
    "            Y.append(ix)\n",
    "\n",
    "            # crop context\n",
    "            context = context[1:] + [ix]\n",
    "\n",
    "    X = torch.tensor(X)\n",
    "    Y = torch.tensor(Y)\n",
    "    print(X.shape, Y.shape)\n",
    "\n",
    "    return X, Y\n",
    "\n",
    "import random\n",
    "random.seed(42)\n",
    "random.shuffle(words)\n",
    "n1 = int(0.8*len(words))\n",
    "n2 = int(0.9*len(words))\n",
    "\n",
    "Xtr, Ytr = build_dataset(words[:n1])\n",
    "Xdev, Ydev = build_dataset(words[n1:n2])\n",
    "Xte, Yte = build_dataset(words[n2:])"
   ]
  },
  {
   "cell_type": "code",
   "execution_count": 9,
   "metadata": {},
   "outputs": [],
   "source": [
    "# build the embedding C\n",
    "\n",
    "C = torch.randn((27, 2))"
   ]
  },
  {
   "cell_type": "code",
   "execution_count": 11,
   "metadata": {},
   "outputs": [],
   "source": [
    "emb = C[Xtr]"
   ]
  },
  {
   "cell_type": "code",
   "execution_count": 12,
   "metadata": {},
   "outputs": [
    {
     "data": {
      "text/plain": [
       "torch.Size([182625, 3, 2])"
      ]
     },
     "execution_count": 12,
     "metadata": {},
     "output_type": "execute_result"
    }
   ],
   "source": [
    "emb.shape"
   ]
  },
  {
   "cell_type": "code",
   "execution_count": 15,
   "metadata": {},
   "outputs": [],
   "source": [
    "W1 = torch.randn(())"
   ]
  },
  {
   "cell_type": "code",
   "execution_count": 16,
   "metadata": {},
   "outputs": [],
   "source": [
    "W1 = torch.randn((6, 100))\n",
    "b1 = torch.randn(100)"
   ]
  },
  {
   "cell_type": "code",
   "execution_count": 17,
   "metadata": {},
   "outputs": [],
   "source": [
    "# the -1 in first arg is a syntax for \"inference the size\"\n",
    "h = torch.tanh(emb.view(-1, 6) @ W1 + b1)"
   ]
  },
  {
   "cell_type": "code",
   "execution_count": 18,
   "metadata": {},
   "outputs": [
    {
     "data": {
      "text/plain": [
       "torch.Size([182625, 100])"
      ]
     },
     "execution_count": 18,
     "metadata": {},
     "output_type": "execute_result"
    }
   ],
   "source": [
    "h.shape"
   ]
  },
  {
   "cell_type": "code",
   "execution_count": 19,
   "metadata": {},
   "outputs": [],
   "source": [
    "W2 = torch.randn((100, 27))\n",
    "b2 = torch.randn(27)"
   ]
  },
  {
   "cell_type": "code",
   "execution_count": 20,
   "metadata": {},
   "outputs": [],
   "source": [
    "logits = h @ W2 + b2"
   ]
  },
  {
   "cell_type": "code",
   "execution_count": 21,
   "metadata": {},
   "outputs": [
    {
     "data": {
      "text/plain": [
       "torch.Size([182625, 27])"
      ]
     },
     "execution_count": 21,
     "metadata": {},
     "output_type": "execute_result"
    }
   ],
   "source": [
    "logits.shape"
   ]
  },
  {
   "cell_type": "code",
   "execution_count": 22,
   "metadata": {},
   "outputs": [],
   "source": [
    "counts = logits.exp()"
   ]
  },
  {
   "cell_type": "code",
   "execution_count": 23,
   "metadata": {},
   "outputs": [],
   "source": [
    "prob = counts / counts.sum(1, keepdim=True)"
   ]
  },
  {
   "cell_type": "code",
   "execution_count": 24,
   "metadata": {},
   "outputs": [
    {
     "data": {
      "text/plain": [
       "torch.Size([182625, 27])"
      ]
     },
     "execution_count": 24,
     "metadata": {},
     "output_type": "execute_result"
    }
   ],
   "source": [
    "prob.shape"
   ]
  },
  {
   "cell_type": "code",
   "execution_count": 27,
   "metadata": {},
   "outputs": [
    {
     "data": {
      "text/plain": [
       "tensor(17.3923)"
      ]
     },
     "execution_count": 27,
     "metadata": {},
     "output_type": "execute_result"
    }
   ],
   "source": [
    "loss = -prob[torch.arange(len(Ytr)), Ytr].log().mean()\n",
    "loss"
   ]
  },
  {
   "cell_type": "code",
   "execution_count": 141,
   "metadata": {},
   "outputs": [],
   "source": [
    "# -------- cleaned up code for the network and training --------"
   ]
  },
  {
   "cell_type": "code",
   "execution_count": 29,
   "metadata": {},
   "outputs": [],
   "source": [
    "g = torch.Generator().manual_seed(2147483647)\n",
    "C = torch.randn((27, 10), generator=g)\n",
    "W1 = torch.randn((30, 200), generator=g)\n",
    "b1 = torch.randn(200, generator=g)\n",
    "W2 = torch.randn((200, 27), generator=g)\n",
    "b2 = torch.randn(27, generator=g)\n",
    "parameters = [C, W1, b1, W2, b2]"
   ]
  },
  {
   "cell_type": "code",
   "execution_count": 30,
   "metadata": {},
   "outputs": [
    {
     "data": {
      "text/plain": [
       "11897"
      ]
     },
     "execution_count": 30,
     "metadata": {},
     "output_type": "execute_result"
    }
   ],
   "source": [
    "sum([p.nelement() for p in parameters]) "
   ]
  },
  {
   "cell_type": "code",
   "execution_count": 31,
   "metadata": {},
   "outputs": [],
   "source": [
    "for p in parameters:\n",
    "    p.requires_grad = True"
   ]
  },
  {
   "cell_type": "code",
   "execution_count": 32,
   "metadata": {},
   "outputs": [],
   "source": [
    "# lre = torch.linspace(-3, 0, 1000)\n",
    "# lrs = 10**lre\n",
    "# lrs"
   ]
  },
  {
   "cell_type": "code",
   "execution_count": 33,
   "metadata": {},
   "outputs": [],
   "source": [
    "lri = []\n",
    "lossi = []\n",
    "stepi = []\n"
   ]
  },
  {
   "cell_type": "code",
   "execution_count": 34,
   "metadata": {},
   "outputs": [
    {
     "name": "stdout",
     "output_type": "stream",
     "text": [
      "1.6245691776275635\n"
     ]
    }
   ],
   "source": [
    "\n",
    "for i in range(200000):\n",
    "    \n",
    "    # mini batch constrcut\n",
    "    ix = torch.randint(0, Xtr.shape[0], (32,))\n",
    "    \n",
    "    # forward pass\n",
    "    emb = C[Xtr[ix]]\n",
    "    h = torch.tanh(emb.view(-1, 30) @ W1 + b1)\n",
    "    logits = h @ W2 + b2\n",
    "    # ---- the next 3 lines are what's called the \"cross entropy\" function ----\n",
    "    # counts = logits.exp()\n",
    "    # probs = counts / counts.sum(1, keepdim=True)\n",
    "    # loss = -probs[torch.arange(probs.shape[0]), Y].log().mean() # likelihood estimation\n",
    "    loss = F.cross_entropy(logits, Ytr[ix])\n",
    "    # print(loss.item())\n",
    "    \n",
    "    # backward pass\n",
    "    for p in parameters:\n",
    "        p.grad = None\n",
    "    loss.backward()\n",
    "\n",
    "    # update\n",
    "    # lr = lrs[i]\n",
    "    lr = 0.1 if i < 100000 else 0.01\n",
    "    for p in parameters:\n",
    "        p.data += -lr * p.grad\n",
    "\n",
    "    # track stats\n",
    "    stepi.append(i)\n",
    "    # lri.append(lre[i])\n",
    "    lossi.append(loss.log10().item())\n",
    "\n",
    "print(loss.item())"
   ]
  },
  {
   "cell_type": "code",
   "execution_count": 482,
   "metadata": {},
   "outputs": [
    {
     "data": {
      "text/plain": [
       "[<matplotlib.lines.Line2D at 0xffffb77e0550>]"
      ]
     },
     "execution_count": 482,
     "metadata": {},
     "output_type": "execute_result"
    },
    {
     "data": {
      "image/png": "[encoded data removed]",
      "text/plain": [
       "<Figure size 640x480 with 1 Axes>"
      ]
     },
     "metadata": {},
     "output_type": "display_data"
    }
   ],
   "source": [
    "plt.plot(stepi, lossi)"
   ]
  },
  {
   "cell_type": "code",
   "execution_count": 483,
   "metadata": {},
   "outputs": [
    {
     "name": "stdout",
     "output_type": "stream",
     "text": [
      "2.1675493717193604\n"
     ]
    }
   ],
   "source": [
    "emb = C[Xdev]\n",
    "h = torch.tanh(emb.view(-1, 30) @ W1 + b1)\n",
    "logits = h @ W2 + b2\n",
    "\n",
    "loss = F.cross_entropy(logits, Ydev)\n",
    "print(loss.item())"
   ]
  },
  {
   "cell_type": "code",
   "execution_count": 484,
   "metadata": {},
   "outputs": [
    {
     "name": "stdout",
     "output_type": "stream",
     "text": [
      "2.132896661758423\n"
     ]
    }
   ],
   "source": [
    "emb = C[X]\n",
    "h = torch.tanh(emb.view(-1, 30) @ W1 + b1)\n",
    "logits = h @ W2 + b2\n",
    "\n",
    "loss = F.cross_entropy(logits, Y)\n",
    "print(loss.item())"
   ]
  },
  {
   "cell_type": "code",
   "execution_count": 485,
   "metadata": {},
   "outputs": [
    {
     "data": {
      "image/png": "[encoded data removed]",
      "text/plain": [
       "<Figure size 800x800 with 1 Axes>"
      ]
     },
     "metadata": {},
     "output_type": "display_data"
    }
   ],
   "source": [
    "plt.figure(figsize=(8,8))\n",
    "plt.scatter(C[:,0].data, C[:,1].data, s=200)\n",
    "for i in range(C.shape[0]):\n",
    "    plt.text(C[i,0].item(), C[i,1].item(), itos[i], ha=\"center\", va=\"center\", color=\"white\")\n",
    "plt.grid(\"minor\")"
   ]
  },
  {
   "cell_type": "code",
   "execution_count": 36,
   "metadata": {},
   "outputs": [
    {
     "name": "stdout",
     "output_type": "stream",
     "text": [
      "carlah.\n",
      "amelle.\n",
      "khyrmyn.\n",
      "reety.\n",
      "skanden.\n",
      "jazhuel.\n",
      "delynn.\n",
      "jareei.\n",
      "ner.\n",
      "kentziaiir.\n",
      "kaleigh.\n",
      "ham.\n",
      "join.\n",
      "quinn.\n",
      "suline.\n",
      "liveni.\n",
      "wanthoniel.\n",
      "yxin.\n",
      "kaelynn.\n",
      "demed.\n"
     ]
    }
   ],
   "source": [
    "# sample from the the model!\n",
    "g = torch.Generator().manual_seed(2147483647 + 10)\n",
    "BLOCK_SIZE = 3\n",
    "\n",
    "for _ in range(20):\n",
    "\n",
    "    out = []\n",
    "    context = [0] * BLOCK_SIZE # initialize with all ...\n",
    "    while True:\n",
    "        emb = C[torch.tensor(context)] # (1,block_size,d)\n",
    "        h = torch.tanh(emb.view(1, -1) @ W1 + b1)\n",
    "        logits = h @ W2 + b2\n",
    "        probs = F.softmax(logits, dim=1)\n",
    "        ix = torch.multinomial(probs, num_samples=1, generator=g).item()\n",
    "        context = context[1:] + [ix]\n",
    "        out.append(ix)\n",
    "        if ix == 0:\n",
    "            break\n",
    "    \n",
    "    print(''.join(itos[i] for i in out))"
   ]
  },
  {
   "cell_type": "code",
   "execution_count": null,
   "metadata": {},
   "outputs": [],
   "source": [
    "# training split, dev/validation split, test split\n",
    "# 80%, 10%, 10%"
   ]
  },
  {
   "cell_type": "code",
   "execution_count": 149,
   "metadata": {},
   "outputs": [
    {
     "data": {
      "text/plain": [
       "tensor([ 57295, 210322,  61737,  88084, 198851,  22644, 152892,  52415,  14358,\n",
       "        181431, 227473, 227082,  36032,  95649,  84189, 197174,  75890, 125710,\n",
       "          1837,    203, 155611, 182066,  91353,  40721,  75284, 141126,  75837,\n",
       "        141275,  58747,  91425,  80801, 220387])"
      ]
     },
     "execution_count": 149,
     "metadata": {},
     "output_type": "execute_result"
    }
   ],
   "source": [
    "torch.randint(0, X.shape[0], (32, ))"
   ]
  },
  {
   "cell_type": "code",
   "execution_count": 137,
   "metadata": {},
   "outputs": [
    {
     "data": {
      "text/plain": [
       "torch.return_types.max(\n",
       "values=tensor([13.4137, 17.9644, 20.6772, 20.7268, 16.8571, 13.4137, 16.1146, 14.2717,\n",
       "        16.0139, 18.5009, 16.0738, 21.0530, 13.4137, 17.2578, 17.2659, 20.2016,\n",
       "        13.4137, 16.7054, 15.2578, 17.2021, 18.6941, 16.1057, 10.9961, 10.7943,\n",
       "        15.5882, 13.4137, 16.2897, 17.0882, 12.8241, 16.2913, 19.2258, 16.1885],\n",
       "       grad_fn=<MaxBackward0>),\n",
       "indices=tensor([19, 13, 13,  1,  0, 19, 12,  9, 22,  9,  1,  0, 19, 22,  1,  0, 19, 19,\n",
       "         1,  2,  5, 12, 12,  1,  0, 19, 15, 16,  8,  9,  1,  0]))"
      ]
     },
     "execution_count": 137,
     "metadata": {},
     "output_type": "execute_result"
    }
   ],
   "source": [
    "logits.max(1)"
   ]
  },
  {
   "cell_type": "code",
   "execution_count": 138,
   "metadata": {},
   "outputs": [
    {
     "data": {
      "text/plain": [
       "tensor([ 5, 13, 13,  1,  0, 15, 12,  9, 22,  9,  1,  0,  1, 22,  1,  0,  9, 19,\n",
       "         1,  2,  5, 12, 12,  1,  0, 19, 15, 16,  8,  9,  1,  0])"
      ]
     },
     "execution_count": 138,
     "metadata": {},
     "output_type": "execute_result"
    }
   ],
   "source": [
    "Y"
   ]
  },
  {
   "attachments": {},
   "cell_type": "markdown",
   "metadata": {},
   "source": [
    "## Appendix"
   ]
  },
  {
   "cell_type": "code",
   "execution_count": 21,
   "metadata": {},
   "outputs": [
    {
     "data": {
      "text/plain": [
       "torch.Size([32, 6])"
      ]
     },
     "execution_count": 21,
     "metadata": {},
     "output_type": "execute_result"
    }
   ],
   "source": [
    "# not good, have to change code each time emb dim changes\n",
    "torch.cat([emb[:, 0, :], emb[:, 0, :], emb[:, 0, :]], dim=1).shape"
   ]
  },
  {
   "cell_type": "code",
   "execution_count": 27,
   "metadata": {},
   "outputs": [
    {
     "data": {
      "text/plain": [
       "torch.Size([32, 6])"
      ]
     },
     "execution_count": 27,
     "metadata": {},
     "output_type": "execute_result"
    }
   ],
   "source": [
    "# better, but still not the best way\n",
    "torch.cat(torch.unbind(emb, dim=1), dim=1).shape"
   ]
  },
  {
   "cell_type": "code",
   "execution_count": 58,
   "metadata": {},
   "outputs": [
    {
     "data": {
      "text/plain": [
       "tensor([[[ 0,  1],\n",
       "         [ 2,  3],\n",
       "         [ 4,  5]],\n",
       "\n",
       "        [[ 6,  7],\n",
       "         [ 8,  9],\n",
       "         [10, 11]],\n",
       "\n",
       "        [[12, 13],\n",
       "         [14, 15],\n",
       "         [16, 17]]])"
      ]
     },
     "execution_count": 58,
     "metadata": {},
     "output_type": "execute_result"
    }
   ],
   "source": [
    "# introducing view()\n",
    "a = torch.arange(18)\n",
    "a.view(3, 3, 2)"
   ]
  },
  {
   "cell_type": "code",
   "execution_count": 61,
   "metadata": {},
   "outputs": [
    {
     "data": {
      "text/plain": [
       "tensor([[ 0.8008,  0.0239,  0.8008,  0.0239,  0.8008,  0.0239],\n",
       "        [ 0.8008,  0.0239,  0.8008,  0.0239,  0.1407,  0.3638],\n",
       "        [ 0.8008,  0.0239,  0.1407,  0.3638,  0.8119,  2.0869],\n",
       "        [ 0.1407,  0.3638,  0.8119,  2.0869,  0.8119,  2.0869],\n",
       "        [ 0.8119,  2.0869,  0.8119,  2.0869, -2.1968, -0.3353],\n",
       "        [ 0.8008,  0.0239,  0.8008,  0.0239,  0.8008,  0.0239],\n",
       "        [ 0.8008,  0.0239,  0.8008,  0.0239,  0.8737,  0.1018],\n",
       "        [ 0.8008,  0.0239,  0.8737,  0.1018, -0.7722, -3.0319],\n",
       "        [ 0.8737,  0.1018, -0.7722, -3.0319,  0.0493, -0.1341],\n",
       "        [-0.7722, -3.0319,  0.0493, -0.1341, -0.6516, -0.1165],\n",
       "        [ 0.0493, -0.1341, -0.6516, -0.1165,  0.0493, -0.1341],\n",
       "        [-0.6516, -0.1165,  0.0493, -0.1341, -2.1968, -0.3353],\n",
       "        [ 0.8008,  0.0239,  0.8008,  0.0239,  0.8008,  0.0239],\n",
       "        [ 0.8008,  0.0239,  0.8008,  0.0239, -2.1968, -0.3353],\n",
       "        [ 0.8008,  0.0239, -2.1968, -0.3353, -0.6516, -0.1165],\n",
       "        [-2.1968, -0.3353, -0.6516, -0.1165, -2.1968, -0.3353],\n",
       "        [ 0.8008,  0.0239,  0.8008,  0.0239,  0.8008,  0.0239],\n",
       "        [ 0.8008,  0.0239,  0.8008,  0.0239,  0.0493, -0.1341],\n",
       "        [ 0.8008,  0.0239,  0.0493, -0.1341, -0.4373, -0.2668],\n",
       "        [ 0.0493, -0.1341, -0.4373, -0.2668, -2.1968, -0.3353],\n",
       "        [-0.4373, -0.2668, -2.1968, -0.3353, -0.2237, -1.8214],\n",
       "        [-2.1968, -0.3353, -0.2237, -1.8214,  0.1407,  0.3638],\n",
       "        [-0.2237, -1.8214,  0.1407,  0.3638, -0.7722, -3.0319],\n",
       "        [ 0.1407,  0.3638, -0.7722, -3.0319, -0.7722, -3.0319],\n",
       "        [-0.7722, -3.0319, -0.7722, -3.0319, -2.1968, -0.3353],\n",
       "        [ 0.8008,  0.0239,  0.8008,  0.0239,  0.8008,  0.0239],\n",
       "        [ 0.8008,  0.0239,  0.8008,  0.0239, -0.4373, -0.2668],\n",
       "        [ 0.8008,  0.0239, -0.4373, -0.2668,  0.8737,  0.1018],\n",
       "        [-0.4373, -0.2668,  0.8737,  0.1018, -1.1110, -0.7160],\n",
       "        [ 0.8737,  0.1018, -1.1110, -0.7160, -0.4142,  0.5699],\n",
       "        [-1.1110, -0.7160, -0.4142,  0.5699,  0.0493, -0.1341],\n",
       "        [-0.4142,  0.5699,  0.0493, -0.1341, -2.1968, -0.3353]])"
      ]
     },
     "execution_count": 61,
     "metadata": {},
     "output_type": "execute_result"
    }
   ],
   "source": []
  },
  {
   "cell_type": "code",
   "execution_count": null,
   "metadata": {},
   "outputs": [],
   "source": []
  }
 ],
 "metadata": {
  "kernelspec": {
   "display_name": "Python 3 (ipykernel)",
   "language": "python",
   "name": "python3"
  },
  "language_info": {
   "codemirror_mode": {
    "name": "ipython",
    "version": 3
   },
   "file_extension": ".py",
   "mimetype": "text/x-python",
   "name": "python",
   "nbconvert_exporter": "python",
   "pygments_lexer": "ipython3",
   "version": "3.10.6"
  },
  "orig_nbformat": 4,
  "vscode": {
   "interpreter": {
    "hash": "31f2aee4e71d21fbe5cf8b01ff0e069b9275f58929596ceb00d14d90e3e16cd6"
   }
  }
 },
 "nbformat": 4,
 "nbformat_minor": 2
}
